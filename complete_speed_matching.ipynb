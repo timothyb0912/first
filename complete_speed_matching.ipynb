{
 "metadata": {
  "name": "complete_speed_matching.ipynb"
 },
 "nbformat": 3,
 "nbformat_minor": 0,
 "worksheets": [
  {
   "cells": [
    {
     "cell_type": "markdown",
     "metadata": {},
     "source": [
      "#Match Speed Limits to Line Segments in GISADMIN.Streets"
     ]
    },
    {
     "cell_type": "markdown",
     "metadata": {},
     "source": [
      "<ol><li>Import needed modules</li></ol>"
     ]
    },
    {
     "cell_type": "code",
     "collapsed": false,
     "input": [
      "import pandas as pd, numpy as np        #import and alias 3rd party libraries\n",
      "import find_intersection as fi          #import and alias my own library (saved in same folder as this notebook)\n",
      "import fiona                            #import 3rd party libraries\n",
      "import intersections                    #import my own library (saved in the same folder as this notebook)\n",
      "import os, re                           #import standard python libraries"
     ],
     "language": "python",
     "metadata": {},
     "outputs": [],
     "prompt_number": 1
    },
    {
     "cell_type": "markdown",
     "metadata": {},
     "source": [
      "<ol start=2>\n",
      "    <li>Create a dataframe for the spatial and attribute data from the GISADMIN.Streets shapefile</li>\n",
      "</ol>"
     ]
    },
    {
     "cell_type": "code",
     "collapsed": false,
     "input": [
      "#Create a function that will take a path to a shapefile, extract the coordinate, geometry type,\n",
      "#and attribute info, and return it all in a pandas dataframe\n",
      "def makeSpatialDf(path):\n",
      "    coll = list(fiona.open(path)) #Create the fiona collection of your shapefile\n",
      "    attrs = coll[0][\"properties\"].keys() #Get the column headings from the attribute table\n",
      "    cols = [(\"geometry\", \"coordinates\"), (\"geometry\", \"type\")] + attrs #Create the dataframe columns\n",
      "    data = [] #Create the overall array to hold all the data\n",
      "    for feature in coll: #Iterate over all the features within the feature collection\n",
      "        newRow = [] #Create a new array to hold each row's data\n",
      "        newRow.append(feature[\"geometry\"][\"coordinates\"]) #Add the feature's coordinates to the row\n",
      "        newRow.append(feature[\"geometry\"][\"type\"]) #Add the feature's geometry type to the row\n",
      "        newRow.extend(feature[\"properties\"].values()) #Add the feature's attributes to the row\n",
      "        data.append(newRow) #Add the row to the overall array of data\n",
      "    return pd.DataFrame(data, columns = cols) #Create the dataframe from the data."
     ],
     "language": "python",
     "metadata": {},
     "outputs": [],
     "prompt_number": 2
    },
    {
     "cell_type": "code",
     "collapsed": false,
     "input": [
      "#Create a path to the GISADMIN.Streets shapefile\n",
      "ga_streets_shp = os.path.join(\"GISADMIN_STREETS\", \"GISADMIN_Streets.shp\")\n",
      "#Create the pandas dataframe of the spatial and attribute info from the shapefile\n",
      "ga_streets = makeSpatialDf(ga_streets_shp)"
     ],
     "language": "python",
     "metadata": {},
     "outputs": [],
     "prompt_number": 3
    },
    {
     "cell_type": "markdown",
     "metadata": {},
     "source": [
      "<p>\n",
      "    <ol start=3>\n",
      "        <li>Clean the data from GISADMIN.Streets.</li>\n",
      "    </ol> \n",
      "    All of the records in the dataframe need to be single line segments so that when a dataframe of intersections is created, we minimize the creation of intersections that are anything other than points.\n",
      "</p> "
     ]
    },
    {
     "cell_type": "code",
     "collapsed": false,
     "input": [
      "#Look at the type of geometry the records in GISADMIN.Streets have. We need to make it so there are only linestrings\n",
      "ga_streets[(\"geometry\", \"type\")].unique()"
     ],
     "language": "python",
     "metadata": {},
     "outputs": [
      {
       "metadata": {},
       "output_type": "pyout",
       "prompt_number": 4,
       "text": [
        "array(['LineString', 'MultiLineString'], dtype=object)"
       ]
      }
     ],
     "prompt_number": 4
    },
    {
     "cell_type": "code",
     "collapsed": false,
     "input": [
      "#The MultiLineStrings are all trails\n",
      "ga_streets[ga_streets[(\"geometry\", \"type\")] == 'MultiLineString'][\"NAME\"]"
     ],
     "language": "python",
     "metadata": {},
     "outputs": [
      {
       "metadata": {},
       "output_type": "pyout",
       "prompt_number": 5,
       "text": [
        "2442    Bay Area Ridge Trail\n",
        "2591       Damon Marsh Trail\n",
        "2876         Columbine Trail\n",
        "Name: NAME, dtype: object"
       ]
      }
     ],
     "prompt_number": 5
    },
    {
     "cell_type": "code",
     "collapsed": false,
     "input": [
      "#Get the index locations in the dataframe that denote the rows that have MultiLineString data\n",
      "multi_segments = ga_streets[ga_streets[(\"geometry\", \"type\")] == 'MultiLineString'].index.tolist()\n",
      "\n",
      "#Create new records for the individual linestrings in each multilinestring\n",
      "new_records = []\n",
      "for seg in multi_segments:\n",
      "    orig = ga_streets.loc[seg]\n",
      "    for line_coords in orig[(\"geometry\", \"coordinates\")]:\n",
      "        rec = []\n",
      "        rec.append(line_coords)\n",
      "        rec.append(\"LineString\")\n",
      "        rec.extend(orig.iloc[2:].tolist())\n",
      "        new_records.append(rec)\n",
      "\n",
      "#Add the new records to the original dataframe of info from GISADMIN.Streets        \n",
      "ga_streets = pd.concat([ga_streets, pd.DataFrame(new_records, columns=ga_streets.columns)], ignore_index=True)\n",
      "\n",
      "#Drop the original records that contain multilinestring data\n",
      "ga_streets = ga_streets.drop(multi_segments)"
     ],
     "language": "python",
     "metadata": {},
     "outputs": [],
     "prompt_number": 6
    },
    {
     "cell_type": "markdown",
     "metadata": {},
     "source": [
      "<ol start=4>\n",
      "    <li>Add \"F_Node\" and \"T_Node\" columns necessary for network functionality.</li>\n",
      "        <ol><li>Create a dataframe of intersections in GISADMIN.Streets</li></ol>\n",
      "</ol>"
     ]
    },
    {
     "cell_type": "code",
     "collapsed": false,
     "input": [
      "#Create a column for the shapely representation of each object's geometry \n",
      "#and create columns for the bounding box information of each object\n",
      "ga_streets = ga_streets.apply(intersections.make_shape_and_bounds, axis = 1)"
     ],
     "language": "python",
     "metadata": {},
     "outputs": [],
     "prompt_number": 7
    },
    {
     "cell_type": "code",
     "collapsed": false,
     "input": [
      "#Use the shapely representations and the bounding box information for each\n",
      "#record to find where every linestring intersects another linestring.\n",
      "#Then create a point for each point of intersection, save the geometry info\n",
      "#for that point, save the information regarding the street names that intersect\n",
      "#at that point, and then return a dataframe with all the information on each\n",
      "#intersecting point\n",
      "ga_street_ints = intersections.makeIntersectionDf(ga_streets)"
     ],
     "language": "python",
     "metadata": {},
     "outputs": [
      {
       "output_type": "stream",
       "stream": "stdout",
       "text": [
        "Feature 13541 of osDF had a strange/unexpected intersection type: <class 'shapely.geometry.collection.GeometryCollection'>\n",
        "Feature 13589 of osDF had a strange/unexpected intersection type: <class 'shapely.geometry.collection.GeometryCollection'>"
       ]
      },
      {
       "output_type": "stream",
       "stream": "stdout",
       "text": [
        "\n",
        "Feature 14098 of osDF had a strange/unexpected intersection type: <class 'shapely.geometry.collection.GeometryCollection'>"
       ]
      },
      {
       "output_type": "stream",
       "stream": "stdout",
       "text": [
        "\n",
        "Feature 19994 of osDF had a strange/unexpected intersection type: <class 'shapely.geometry.collection.GeometryCollection'>"
       ]
      },
      {
       "output_type": "stream",
       "stream": "stdout",
       "text": [
        "\n",
        "The number of intersections for which the intersections were linestrings or multiLineStrings was 106"
       ]
      },
      {
       "output_type": "stream",
       "stream": "stdout",
       "text": [
        "\n"
       ]
      }
     ],
     "prompt_number": 8
    },
    {
     "cell_type": "markdown",
     "metadata": {},
     "source": [
      "<ol start=4><li>Add \"F_Node\" and \"T_Node\" columns necessary for network functionality.</li><ol start=2><li>In the dataframe of GISADMIN.Streets records, create columns named \"xStreet__\" where the blanks are filled with numbers. The cross-street columns indicate what other streets the record's line segment crosses.</li></ol></ol>"
     ]
    },
    {
     "cell_type": "code",
     "collapsed": false,
     "input": [
      "ga_streets = intersections.makeXstreets(ga_streets, ga_street_ints)"
     ],
     "language": "python",
     "metadata": {},
     "outputs": [],
     "prompt_number": 9
    },
    {
     "cell_type": "markdown",
     "metadata": {},
     "source": [
      "<ol start=4>\n",
      "    <li>Add \"F_Node\" and \"T_Node\" columns necessary for network functionality.</li>\n",
      "        <ol start=3>\n",
      "            <li>Create the \"from-node\" and \"to-node\" columns (F_Node and T_Node respectively). These columns give the number that uniquely identifies the point at the beginning and end of each line segment</li>\n",
      "        </ol>\n",
      "</ol>"
     ]
    },
    {
     "cell_type": "code",
     "collapsed": false,
     "input": [
      "intersections.makeNodes(ga_streets, ga_street_ints)"
     ],
     "language": "python",
     "metadata": {},
     "outputs": [
      {
       "output_type": "stream",
       "stream": "stdout",
       "text": [
        "[]\n"
       ]
      }
     ],
     "prompt_number": 10
    },
    {
     "cell_type": "markdown",
     "metadata": {},
     "source": [
      "<ol start=5>\n",
      "    <li>Save the prepared dataframes of intersections and GISADMIN.Streets information as pickle files</li>\n",
      "</ol>\n",
      "<font color=\"red\">Note, running the procedure the create the ga_street_ints, does not result in the intersections being numbered the exact same way everytime. The manually entered node numbers in the speed_limit_df will therefore not apply to any new intersection dataframe that is created. Because of this, do not un-comment and run the cell below. It is left only to accurately show the process that was used to create the table of speed limits.</font>"
     ]
    },
    {
     "cell_type": "code",
     "collapsed": false,
     "input": [
      "# ga_street_ints.to_pickle(\"ga_street_intersection_df.pkl\")\n",
      "# ga_streets.to_pickle(\"gis_admin_streets.pkl\")"
     ],
     "language": "python",
     "metadata": {},
     "outputs": [],
     "prompt_number": 11
    },
    {
     "cell_type": "markdown",
     "metadata": {},
     "source": [
      "<ol start=6>\n",
      "    <li>Read in the speed limit data from Microsoft Excel, and read in the saved street and intersection dataframes.</li>\n",
      "</ol>"
     ]
    },
    {
     "cell_type": "code",
     "collapsed": false,
     "input": [
      "speed_limit_df = pd.read_excel(\"SpeedLimitData.xlsx\", \"All (3)\", parse_cols = range(1,9))\n",
      "ga_streets = pd.read_pickle(\"gis_admin_streets.pkl\")\n",
      "ga_street_ints = pd.read_pickle(\"ga_street_intersection_df.pkl\")"
     ],
     "language": "python",
     "metadata": {},
     "outputs": [],
     "prompt_number": 15
    },
    {
     "cell_type": "markdown",
     "metadata": {},
     "source": [
      "<ol start =7>\n",
      "    <li>Create two new columns for the speed limits in the north/east-bound and south/west-bound directions. Initialize the speed limits on all line segments and in all directiosn to 25mph. This will ensure that unless otherwise noted in the Oakland Municipal Code or in the speed surveys from the consultants, the speed on any line segment in the city is 25mph by default.</li>\n",
      "</ol>\n",
      "The values in the speed_set_by_survey column are indicator variables where a 1 indicates that the speed on this line segement was set by either the municipal code or a speed survey (or both). It is initialized to zero for all line segments."
     ]
    },
    {
     "cell_type": "code",
     "collapsed": false,
     "input": [
      "ga_streets[\"POSTED_SPEED_NB_EB\"] = 25\n",
      "ga_streets[\"POSTED_SPEED_SB_WB\"] = 25\n",
      "ga_streets[\"speed_set_by_survey\"] = 0"
     ],
     "language": "python",
     "metadata": {},
     "outputs": [],
     "prompt_number": 16
    },
    {
     "cell_type": "markdown",
     "metadata": {},
     "source": [
      "<ol start=8>\n",
      "    <li>Use the information contained in the Oakland Municipal Code and in the consultants' speed surveys to set the speed limits on each segment to some specified value. First apply the limits stated in the municipal code, then apply the limits stated in the speed surveys by wood rogers, then apply the limits stated by Kimley Horn (since this is the order in which the data has been updated).</li>\n",
      "</ol>\n",
      "This process will amend the values in the POSTED_SPEED_NB_EB, POSTED_SPEED_SB_WB, and speed_set_by_survey columns created above. Additionally, the function will create and populate a \"message\" column in the speed_limit_df which contains information about the success and problems incurred by the program in setting the speed limit for each corridor in the rows of speed_limit_df."
     ]
    },
    {
     "cell_type": "code",
     "collapsed": false,
     "input": [
      "speed_limit_df = speed_limit_df.apply(fi.change_speed_limits, axis = 1, args = (ga_street_ints, ga_streets,\n",
      "                                                                                   \"Street Name\", \"From\", \"To\",\n",
      "                                                                                   \"POSTED_SPEED_NB_EB\", \"POSTED_SPEED_SB_WB\",\n",
      "                                                                                   \"speed_set_by_survey\"))"
     ],
     "language": "python",
     "metadata": {},
     "outputs": [],
     "prompt_number": 17
    },
    {
     "cell_type": "markdown",
     "metadata": {},
     "source": [
      "<ol start=9><li></li>\n",
      "    <ol>\n",
      "        <li>Filter out the corridors from the speed limit excel spreadsheet which the program could not find appropriate street segments for. Those are the records for which no line segments would have had their speed limits set.</li>\n",
      "        <li>Save the problematic speed survey and associated message in its own csv file.</li>\n",
      "    </ol>\n",
      "</ol>"
     ]
    },
    {
     "cell_type": "code",
     "collapsed": false,
     "input": [
      "pattern = \"No (?:street|roadway) segments had their speed limits changed by this\"\n",
      "prob_surveys = speed_limit_df[speed_limit_df.Message.str.contains(pattern, case=False)][[\"Street Name\", \"From\", \"To\", \"Message\"]]\n",
      "prob_surveys"
     ],
     "language": "python",
     "metadata": {},
     "outputs": [
      {
       "html": [
        "<div style=\"max-height:1000px;max-width:1500px;overflow:auto;\">\n",
        "<table border=\"1\" class=\"dataframe\">\n",
        "  <thead>\n",
        "    <tr style=\"text-align: right;\">\n",
        "      <th></th>\n",
        "      <th>Street Name</th>\n",
        "      <th>From</th>\n",
        "      <th>To</th>\n",
        "      <th>Message</th>\n",
        "    </tr>\n",
        "  </thead>\n",
        "  <tbody>\n",
        "    <tr>\n",
        "      <th>155</th>\n",
        "      <td> Monterey Boulevard</td>\n",
        "      <td> Palo Seco Court</td>\n",
        "      <td>     Redwood Road</td>\n",
        "      <td> No beginning intersection has been identified....</td>\n",
        "    </tr>\n",
        "    <tr>\n",
        "      <th>177</th>\n",
        "      <td>        31st Street</td>\n",
        "      <td>        Broadway</td>\n",
        "      <td> Telegraph Avenue</td>\n",
        "      <td> No beginning intersection has been identified....</td>\n",
        "    </tr>\n",
        "    <tr>\n",
        "      <th>269</th>\n",
        "      <td>          Campus Dr</td>\n",
        "      <td>      Redwood Rd</td>\n",
        "      <td>  Merritt College</td>\n",
        "      <td> No ending intersection has been identified. No...</td>\n",
        "    </tr>\n",
        "    <tr>\n",
        "      <th>270</th>\n",
        "      <td>          Campus Dr</td>\n",
        "      <td> Merritt College</td>\n",
        "      <td>   Rising Hill Ct</td>\n",
        "      <td> No beginning intersection has been identified....</td>\n",
        "    </tr>\n",
        "  </tbody>\n",
        "</table>\n",
        "</div>"
       ],
       "metadata": {},
       "output_type": "pyout",
       "prompt_number": 18,
       "text": [
        "            Street Name             From                To  \\\n",
        "155  Monterey Boulevard  Palo Seco Court      Redwood Road   \n",
        "177         31st Street         Broadway  Telegraph Avenue   \n",
        "269           Campus Dr       Redwood Rd   Merritt College   \n",
        "270           Campus Dr  Merritt College    Rising Hill Ct   \n",
        "\n",
        "                                               Message  \n",
        "155  No beginning intersection has been identified....  \n",
        "177  No beginning intersection has been identified....  \n",
        "269  No ending intersection has been identified. No...  \n",
        "270  No beginning intersection has been identified....  "
       ]
      }
     ],
     "prompt_number": 18
    },
    {
     "cell_type": "code",
     "collapsed": false,
     "input": [
      "prob_surveys.to_csv(\"problematic_roadway_segment_speeds_5.csv\")"
     ],
     "language": "python",
     "metadata": {},
     "outputs": [],
     "prompt_number": 19
    },
    {
     "cell_type": "markdown",
     "metadata": {},
     "source": [
      "<ol start=10>\n",
      "    <li>Find out which line segments are probably highways or highway ramps. Save it in a column of indicator variables (i.e., highway = 1, not_highway = 0) in the dataframe of info about the GISADMIN.Streets records</li>\n",
      "</ol>"
     ]
    },
    {
     "cell_type": "code",
     "collapsed": false,
     "input": [
      "#Define specific naming patterns that correspond to the ways highways are named in GISADMIN.Streets\n",
      "#The first pattern looks for a letter followed directly by a number, such as S24\n",
      "#The second pattern just looks for the offramp, onramp, or connector abbreviations\n",
      "#The last pattern looks for names such as I 580,\n",
      "highway_patterns = [r\"[a-z][0-9]\", r\"(?:OFFRP|ONRP|CONN)\", r\"(?:I|S) [0-9]+\"]\n",
      "\n",
      "highway_indicator = [0 for x in ga_streets.NAME.values] #initialize the highway_indicator values to 0\n",
      "\n",
      "#Find the names that appear to be highways and change their indicator values to one\n",
      "for pos, name in enumerate(ga_streets.NAME.values):\n",
      "    if pd.isnull(name): #Skip names that are blank\n",
      "        continue\n",
      "    #If the name matches any of the highway patterns, set the highway_indicator for that name to 1\n",
      "    if np.any([re.findall(x, name, re.I) for x in highway_patterns]):\n",
      "        highway_indicator[pos] = 1\n",
      "        \n",
      "ga_streets[\"highway_indicator\"] = highway_indicator #Create the highway_indicator column"
     ],
     "language": "python",
     "metadata": {},
     "outputs": [],
     "prompt_number": 20
    },
    {
     "cell_type": "markdown",
     "metadata": {},
     "source": [
      "<ol start=11>\n",
      "    <li>Find the highest speed limit (in any direction) for a given line segment. Save this information in the dataframe with all the other GISADMIN.Streets information.</li>\n",
      "</ol>"
     ]
    },
    {
     "cell_type": "code",
     "collapsed": false,
     "input": [
      "highest_speed = [] #Initialize an empty list to hold the values of the highest speeds in either direction\n",
      "for i, row in ga_streets.iterrows(): #Iterate over the line segments in GISADMIN.Streets\n",
      "    #Get the speed limits in either direction for this line segment.\n",
      "    nb_speed = row[\"POSTED_SPEED_NB_EB\"]\n",
      "    sb_speed = row[\"POSTED_SPEED_SB_WB\"]\n",
      "    #Place the higher of the two speeds into the highest_speed list\n",
      "    if nb_speed >= sb_speed:\n",
      "        highest_speed.append(nb_speed)\n",
      "    else:\n",
      "        highest_speed.append(sb_speed)\n",
      "\n",
      "#Create the HIGHEST_SPEED_BOTH_DIRECTIONS column, and fill it with the data from the highest_speed list\n",
      "ga_streets[\"HIGHEST_SPEED_BOTH_DIRECTIONS\"] = highest_speed"
     ],
     "language": "python",
     "metadata": {},
     "outputs": [],
     "prompt_number": 21
    },
    {
     "cell_type": "markdown",
     "metadata": {},
     "source": [
      "<ol start=12>\n",
      "    <li>Save the results of the speed limit matching exercise, and the highway name search, as an excel file that can be joined to the GISADMIN.Streets feature class. The OBJECTID_1 column is renamed to O_ID_1 to avoid any joining issues when bringing the table into ArcMap.</li>\n",
      "</ol>"
     ]
    },
    {
     "cell_type": "code",
     "collapsed": false,
     "input": [
      "speed_results = ga_streets[[\"OBJECTID_1\", \"POSTED_SPEED_NB_EB\", \"POSTED_SPEED_SB_WB\",\n",
      "                            \"HIGHEST_SPEED_BOTH_DIRECTIONS\", \"speed_set_by_survey\", \"highway_indicator\"]]\n",
      "speed_results.columns =  [\"O_ID_1\", \"POSTED_SPEED_NB_EB\", \"POSTED_SPEED_SB_WB\",\n",
      "                          \"HIGHEST_SPEED_BOTH_DIRECTIONS\", \"speed_set_by_survey\", \"highway_indicator\"]\n",
      "speed_results.to_excel(\"draft_speed_results_3.xls\", sheet_name=\"draft_speed_results\", index = False)"
     ],
     "language": "python",
     "metadata": {},
     "outputs": [],
     "prompt_number": 22
    },
    {
     "cell_type": "markdown",
     "metadata": {},
     "source": [
      "<ol start=13>\n",
      "    <li></li>\n",
      "        <ol>\n",
      "            <li>Save the GISADMIN.Streets dataframe with the speed limit results.</li>\n",
      "            <li>Save the speed limit spreadsheet with the messages about what went on during the matching attempt.</li>\n",
      "        </ol>\n",
      "</ol>"
     ]
    },
    {
     "cell_type": "code",
     "collapsed": false,
     "input": [
      "ga_streets.to_pickle(\"gis_admin_streets_speed_results.pkl\")\n",
      "speed_limit_df.to_csv(\"speed_match_attempt_5.csv\")"
     ],
     "language": "python",
     "metadata": {},
     "outputs": [],
     "prompt_number": 23
    }
   ],
   "metadata": {}
  }
 ]
}
